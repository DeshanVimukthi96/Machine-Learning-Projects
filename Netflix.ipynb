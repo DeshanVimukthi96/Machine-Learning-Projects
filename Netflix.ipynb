{
 "cells": [
  {
   "cell_type": "code",
   "execution_count": 46,
   "id": "3c655d6e",
   "metadata": {},
   "outputs": [],
   "source": [
    "import pandas as pd\n",
    "import numpy as np\n",
    "import seaborn as sns\n",
    "import matplotlib.pyplot as plt\n",
    "from sklearn.metrics.pairwise import cosine_similarity\n",
    "from sklearn.feature_extraction.text import CountVectorizer"
   ]
  },
  {
   "cell_type": "code",
   "execution_count": 26,
   "id": "36475914",
   "metadata": {},
   "outputs": [],
   "source": [
    "data=pd.read_csv(\"C:\\\\Users\\\\Dedshan Vimukthi\\\\Documents\\\\projects_dataset\\\\movie_data.CSV\")"
   ]
  },
  {
   "cell_type": "code",
   "execution_count": 27,
   "id": "9b23af57",
   "metadata": {},
   "outputs": [
    {
     "data": {
      "text/html": [
       "<div>\n",
       "<style scoped>\n",
       "    .dataframe tbody tr th:only-of-type {\n",
       "        vertical-align: middle;\n",
       "    }\n",
       "\n",
       "    .dataframe tbody tr th {\n",
       "        vertical-align: top;\n",
       "    }\n",
       "\n",
       "    .dataframe thead th {\n",
       "        text-align: right;\n",
       "    }\n",
       "</style>\n",
       "<table border=\"1\" class=\"dataframe\">\n",
       "  <thead>\n",
       "    <tr style=\"text-align: right;\">\n",
       "      <th></th>\n",
       "      <th>director_name</th>\n",
       "      <th>duration</th>\n",
       "      <th>actor_2_name</th>\n",
       "      <th>genres</th>\n",
       "      <th>actor_1_name</th>\n",
       "      <th>movie_title</th>\n",
       "      <th>num_voted_users</th>\n",
       "      <th>actor_3_name</th>\n",
       "      <th>movie_imdb_link</th>\n",
       "      <th>num_user_for_reviews</th>\n",
       "      <th>language</th>\n",
       "      <th>country</th>\n",
       "      <th>title_year</th>\n",
       "      <th>imdb_score</th>\n",
       "    </tr>\n",
       "  </thead>\n",
       "  <tbody>\n",
       "    <tr>\n",
       "      <th>0</th>\n",
       "      <td>James Cameron</td>\n",
       "      <td>178.0</td>\n",
       "      <td>Joel David Moore</td>\n",
       "      <td>Action|Adventure|Fantasy|Sci-Fi</td>\n",
       "      <td>CCH Pounder</td>\n",
       "      <td>Avatar</td>\n",
       "      <td>886204</td>\n",
       "      <td>Wes Studi</td>\n",
       "      <td>http://www.imdb.com/title/tt0499549/?ref_=fn_t...</td>\n",
       "      <td>3054.0</td>\n",
       "      <td>English</td>\n",
       "      <td>USA</td>\n",
       "      <td>2009.0</td>\n",
       "      <td>7.9</td>\n",
       "    </tr>\n",
       "    <tr>\n",
       "      <th>1</th>\n",
       "      <td>Gore Verbinski</td>\n",
       "      <td>169.0</td>\n",
       "      <td>Orlando Bloom</td>\n",
       "      <td>Action|Adventure|Fantasy</td>\n",
       "      <td>Johnny Depp</td>\n",
       "      <td>Pirates of the Caribbean: At World's End</td>\n",
       "      <td>471220</td>\n",
       "      <td>Jack Davenport</td>\n",
       "      <td>http://www.imdb.com/title/tt0449088/?ref_=fn_t...</td>\n",
       "      <td>1238.0</td>\n",
       "      <td>English</td>\n",
       "      <td>USA</td>\n",
       "      <td>2007.0</td>\n",
       "      <td>7.1</td>\n",
       "    </tr>\n",
       "    <tr>\n",
       "      <th>2</th>\n",
       "      <td>Sam Mendes</td>\n",
       "      <td>148.0</td>\n",
       "      <td>Rory Kinnear</td>\n",
       "      <td>Action|Adventure|Thriller</td>\n",
       "      <td>Christoph Waltz</td>\n",
       "      <td>Spectre</td>\n",
       "      <td>275868</td>\n",
       "      <td>Stephanie Sigman</td>\n",
       "      <td>http://www.imdb.com/title/tt2379713/?ref_=fn_t...</td>\n",
       "      <td>994.0</td>\n",
       "      <td>English</td>\n",
       "      <td>UK</td>\n",
       "      <td>2015.0</td>\n",
       "      <td>6.8</td>\n",
       "    </tr>\n",
       "    <tr>\n",
       "      <th>3</th>\n",
       "      <td>Christopher Nolan</td>\n",
       "      <td>164.0</td>\n",
       "      <td>Christian Bale</td>\n",
       "      <td>Action|Thriller</td>\n",
       "      <td>Tom Hardy</td>\n",
       "      <td>The Dark Knight Rises</td>\n",
       "      <td>1144337</td>\n",
       "      <td>Joseph Gordon-Levitt</td>\n",
       "      <td>http://www.imdb.com/title/tt1345836/?ref_=fn_t...</td>\n",
       "      <td>2701.0</td>\n",
       "      <td>English</td>\n",
       "      <td>USA</td>\n",
       "      <td>2012.0</td>\n",
       "      <td>8.5</td>\n",
       "    </tr>\n",
       "    <tr>\n",
       "      <th>4</th>\n",
       "      <td>Doug Walker</td>\n",
       "      <td>NaN</td>\n",
       "      <td>Rob Walker</td>\n",
       "      <td>Documentary</td>\n",
       "      <td>Doug Walker</td>\n",
       "      <td>Star Wars: Episode VII - The Force Awakens    ...</td>\n",
       "      <td>8</td>\n",
       "      <td>NaN</td>\n",
       "      <td>http://www.imdb.com/title/tt5289954/?ref_=fn_t...</td>\n",
       "      <td>NaN</td>\n",
       "      <td>NaN</td>\n",
       "      <td>NaN</td>\n",
       "      <td>NaN</td>\n",
       "      <td>7.1</td>\n",
       "    </tr>\n",
       "  </tbody>\n",
       "</table>\n",
       "</div>"
      ],
      "text/plain": [
       "       director_name  duration      actor_2_name  \\\n",
       "0      James Cameron     178.0  Joel David Moore   \n",
       "1     Gore Verbinski     169.0     Orlando Bloom   \n",
       "2         Sam Mendes     148.0      Rory Kinnear   \n",
       "3  Christopher Nolan     164.0    Christian Bale   \n",
       "4        Doug Walker       NaN        Rob Walker   \n",
       "\n",
       "                            genres     actor_1_name  \\\n",
       "0  Action|Adventure|Fantasy|Sci-Fi      CCH Pounder   \n",
       "1         Action|Adventure|Fantasy      Johnny Depp   \n",
       "2        Action|Adventure|Thriller  Christoph Waltz   \n",
       "3                  Action|Thriller        Tom Hardy   \n",
       "4                      Documentary      Doug Walker   \n",
       "\n",
       "                                         movie_title  num_voted_users  \\\n",
       "0                                            Avatar            886204   \n",
       "1          Pirates of the Caribbean: At World's End            471220   \n",
       "2                                           Spectre            275868   \n",
       "3                             The Dark Knight Rises           1144337   \n",
       "4  Star Wars: Episode VII - The Force Awakens    ...                8   \n",
       "\n",
       "           actor_3_name                                    movie_imdb_link  \\\n",
       "0             Wes Studi  http://www.imdb.com/title/tt0499549/?ref_=fn_t...   \n",
       "1        Jack Davenport  http://www.imdb.com/title/tt0449088/?ref_=fn_t...   \n",
       "2      Stephanie Sigman  http://www.imdb.com/title/tt2379713/?ref_=fn_t...   \n",
       "3  Joseph Gordon-Levitt  http://www.imdb.com/title/tt1345836/?ref_=fn_t...   \n",
       "4                   NaN  http://www.imdb.com/title/tt5289954/?ref_=fn_t...   \n",
       "\n",
       "   num_user_for_reviews language country  title_year  imdb_score  \n",
       "0                3054.0  English     USA      2009.0         7.9  \n",
       "1                1238.0  English     USA      2007.0         7.1  \n",
       "2                 994.0  English      UK      2015.0         6.8  \n",
       "3                2701.0  English     USA      2012.0         8.5  \n",
       "4                   NaN      NaN     NaN         NaN         7.1  "
      ]
     },
     "execution_count": 27,
     "metadata": {},
     "output_type": "execute_result"
    }
   ],
   "source": [
    "data.head()"
   ]
  },
  {
   "cell_type": "code",
   "execution_count": 28,
   "id": "4ab07049",
   "metadata": {},
   "outputs": [
    {
     "data": {
      "text/plain": [
       "(5043, 14)"
      ]
     },
     "execution_count": 28,
     "metadata": {},
     "output_type": "execute_result"
    }
   ],
   "source": [
    "data.shape"
   ]
  },
  {
   "cell_type": "code",
   "execution_count": 29,
   "id": "36a50369",
   "metadata": {},
   "outputs": [
    {
     "data": {
      "text/plain": [
       "director_name           2.062265\n",
       "duration                0.297442\n",
       "actor_2_name            0.257783\n",
       "genres                  0.000000\n",
       "actor_1_name            0.138806\n",
       "movie_title             0.000000\n",
       "num_voted_users         0.000000\n",
       "actor_3_name            0.456078\n",
       "movie_imdb_link         0.000000\n",
       "num_user_for_reviews    0.416419\n",
       "language                0.237954\n",
       "country                 0.099147\n",
       "title_year              2.141582\n",
       "imdb_score              0.000000\n",
       "dtype: float64"
      ]
     },
     "execution_count": 29,
     "metadata": {},
     "output_type": "execute_result"
    }
   ],
   "source": [
    "((data.isnull().sum())/len(data))*100"
   ]
  },
  {
   "cell_type": "code",
   "execution_count": 30,
   "id": "4ffc355f",
   "metadata": {},
   "outputs": [],
   "source": [
    "data.dropna(inplace=True)"
   ]
  },
  {
   "cell_type": "code",
   "execution_count": 31,
   "id": "d3c5dd79",
   "metadata": {},
   "outputs": [],
   "source": [
    "data=data[~data[\"movie_title\"].duplicated()]"
   ]
  },
  {
   "cell_type": "code",
   "execution_count": 32,
   "id": "64c80e74",
   "metadata": {},
   "outputs": [
    {
     "data": {
      "text/plain": [
       "(4760, 14)"
      ]
     },
     "execution_count": 32,
     "metadata": {},
     "output_type": "execute_result"
    }
   ],
   "source": [
    "data.shape"
   ]
  },
  {
   "cell_type": "code",
   "execution_count": 33,
   "id": "2374e143",
   "metadata": {},
   "outputs": [],
   "source": [
    "data.reset_index(inplace=True)"
   ]
  },
  {
   "cell_type": "code",
   "execution_count": 35,
   "id": "813ced71",
   "metadata": {},
   "outputs": [],
   "source": [
    "data.drop(\"index\",axis=1,inplace=True)"
   ]
  },
  {
   "cell_type": "code",
   "execution_count": 36,
   "id": "4c6dd58a",
   "metadata": {},
   "outputs": [
    {
     "data": {
      "text/html": [
       "<div>\n",
       "<style scoped>\n",
       "    .dataframe tbody tr th:only-of-type {\n",
       "        vertical-align: middle;\n",
       "    }\n",
       "\n",
       "    .dataframe tbody tr th {\n",
       "        vertical-align: top;\n",
       "    }\n",
       "\n",
       "    .dataframe thead th {\n",
       "        text-align: right;\n",
       "    }\n",
       "</style>\n",
       "<table border=\"1\" class=\"dataframe\">\n",
       "  <thead>\n",
       "    <tr style=\"text-align: right;\">\n",
       "      <th></th>\n",
       "      <th>director_name</th>\n",
       "      <th>duration</th>\n",
       "      <th>actor_2_name</th>\n",
       "      <th>genres</th>\n",
       "      <th>actor_1_name</th>\n",
       "      <th>movie_title</th>\n",
       "      <th>num_voted_users</th>\n",
       "      <th>actor_3_name</th>\n",
       "      <th>movie_imdb_link</th>\n",
       "      <th>num_user_for_reviews</th>\n",
       "      <th>language</th>\n",
       "      <th>country</th>\n",
       "      <th>title_year</th>\n",
       "      <th>imdb_score</th>\n",
       "    </tr>\n",
       "  </thead>\n",
       "  <tbody>\n",
       "    <tr>\n",
       "      <th>0</th>\n",
       "      <td>James Cameron</td>\n",
       "      <td>178.0</td>\n",
       "      <td>Joel David Moore</td>\n",
       "      <td>Action|Adventure|Fantasy|Sci-Fi</td>\n",
       "      <td>CCH Pounder</td>\n",
       "      <td>Avatar</td>\n",
       "      <td>886204</td>\n",
       "      <td>Wes Studi</td>\n",
       "      <td>http://www.imdb.com/title/tt0499549/?ref_=fn_t...</td>\n",
       "      <td>3054.0</td>\n",
       "      <td>English</td>\n",
       "      <td>USA</td>\n",
       "      <td>2009.0</td>\n",
       "      <td>7.9</td>\n",
       "    </tr>\n",
       "    <tr>\n",
       "      <th>1</th>\n",
       "      <td>Gore Verbinski</td>\n",
       "      <td>169.0</td>\n",
       "      <td>Orlando Bloom</td>\n",
       "      <td>Action|Adventure|Fantasy</td>\n",
       "      <td>Johnny Depp</td>\n",
       "      <td>Pirates of the Caribbean: At World's End</td>\n",
       "      <td>471220</td>\n",
       "      <td>Jack Davenport</td>\n",
       "      <td>http://www.imdb.com/title/tt0449088/?ref_=fn_t...</td>\n",
       "      <td>1238.0</td>\n",
       "      <td>English</td>\n",
       "      <td>USA</td>\n",
       "      <td>2007.0</td>\n",
       "      <td>7.1</td>\n",
       "    </tr>\n",
       "    <tr>\n",
       "      <th>2</th>\n",
       "      <td>Sam Mendes</td>\n",
       "      <td>148.0</td>\n",
       "      <td>Rory Kinnear</td>\n",
       "      <td>Action|Adventure|Thriller</td>\n",
       "      <td>Christoph Waltz</td>\n",
       "      <td>Spectre</td>\n",
       "      <td>275868</td>\n",
       "      <td>Stephanie Sigman</td>\n",
       "      <td>http://www.imdb.com/title/tt2379713/?ref_=fn_t...</td>\n",
       "      <td>994.0</td>\n",
       "      <td>English</td>\n",
       "      <td>UK</td>\n",
       "      <td>2015.0</td>\n",
       "      <td>6.8</td>\n",
       "    </tr>\n",
       "    <tr>\n",
       "      <th>3</th>\n",
       "      <td>Christopher Nolan</td>\n",
       "      <td>164.0</td>\n",
       "      <td>Christian Bale</td>\n",
       "      <td>Action|Thriller</td>\n",
       "      <td>Tom Hardy</td>\n",
       "      <td>The Dark Knight Rises</td>\n",
       "      <td>1144337</td>\n",
       "      <td>Joseph Gordon-Levitt</td>\n",
       "      <td>http://www.imdb.com/title/tt1345836/?ref_=fn_t...</td>\n",
       "      <td>2701.0</td>\n",
       "      <td>English</td>\n",
       "      <td>USA</td>\n",
       "      <td>2012.0</td>\n",
       "      <td>8.5</td>\n",
       "    </tr>\n",
       "    <tr>\n",
       "      <th>4</th>\n",
       "      <td>Andrew Stanton</td>\n",
       "      <td>132.0</td>\n",
       "      <td>Samantha Morton</td>\n",
       "      <td>Action|Adventure|Sci-Fi</td>\n",
       "      <td>Daryl Sabara</td>\n",
       "      <td>John Carter</td>\n",
       "      <td>212204</td>\n",
       "      <td>Polly Walker</td>\n",
       "      <td>http://www.imdb.com/title/tt0401729/?ref_=fn_t...</td>\n",
       "      <td>738.0</td>\n",
       "      <td>English</td>\n",
       "      <td>USA</td>\n",
       "      <td>2012.0</td>\n",
       "      <td>6.6</td>\n",
       "    </tr>\n",
       "  </tbody>\n",
       "</table>\n",
       "</div>"
      ],
      "text/plain": [
       "       director_name  duration      actor_2_name  \\\n",
       "0      James Cameron     178.0  Joel David Moore   \n",
       "1     Gore Verbinski     169.0     Orlando Bloom   \n",
       "2         Sam Mendes     148.0      Rory Kinnear   \n",
       "3  Christopher Nolan     164.0    Christian Bale   \n",
       "4     Andrew Stanton     132.0   Samantha Morton   \n",
       "\n",
       "                            genres     actor_1_name  \\\n",
       "0  Action|Adventure|Fantasy|Sci-Fi      CCH Pounder   \n",
       "1         Action|Adventure|Fantasy      Johnny Depp   \n",
       "2        Action|Adventure|Thriller  Christoph Waltz   \n",
       "3                  Action|Thriller        Tom Hardy   \n",
       "4          Action|Adventure|Sci-Fi     Daryl Sabara   \n",
       "\n",
       "                                 movie_title  num_voted_users  \\\n",
       "0                                    Avatar            886204   \n",
       "1  Pirates of the Caribbean: At World's End            471220   \n",
       "2                                   Spectre            275868   \n",
       "3                     The Dark Knight Rises           1144337   \n",
       "4                               John Carter            212204   \n",
       "\n",
       "           actor_3_name                                    movie_imdb_link  \\\n",
       "0             Wes Studi  http://www.imdb.com/title/tt0499549/?ref_=fn_t...   \n",
       "1        Jack Davenport  http://www.imdb.com/title/tt0449088/?ref_=fn_t...   \n",
       "2      Stephanie Sigman  http://www.imdb.com/title/tt2379713/?ref_=fn_t...   \n",
       "3  Joseph Gordon-Levitt  http://www.imdb.com/title/tt1345836/?ref_=fn_t...   \n",
       "4          Polly Walker  http://www.imdb.com/title/tt0401729/?ref_=fn_t...   \n",
       "\n",
       "   num_user_for_reviews language country  title_year  imdb_score  \n",
       "0                3054.0  English     USA      2009.0         7.9  \n",
       "1                1238.0  English     USA      2007.0         7.1  \n",
       "2                 994.0  English      UK      2015.0         6.8  \n",
       "3                2701.0  English     USA      2012.0         8.5  \n",
       "4                 738.0  English     USA      2012.0         6.6  "
      ]
     },
     "execution_count": 36,
     "metadata": {},
     "output_type": "execute_result"
    }
   ],
   "source": [
    "data.head()"
   ]
  },
  {
   "cell_type": "code",
   "execution_count": 37,
   "id": "fe88155e",
   "metadata": {},
   "outputs": [],
   "source": [
    "df=data[[\"movie_title\",\"director_name\",\"actor_1_name\",\"actor_2_name\",\"actor_3_name\",\"genres\",\"language\"]]"
   ]
  },
  {
   "cell_type": "code",
   "execution_count": 38,
   "id": "c237ea00",
   "metadata": {},
   "outputs": [
    {
     "data": {
      "text/html": [
       "<div>\n",
       "<style scoped>\n",
       "    .dataframe tbody tr th:only-of-type {\n",
       "        vertical-align: middle;\n",
       "    }\n",
       "\n",
       "    .dataframe tbody tr th {\n",
       "        vertical-align: top;\n",
       "    }\n",
       "\n",
       "    .dataframe thead th {\n",
       "        text-align: right;\n",
       "    }\n",
       "</style>\n",
       "<table border=\"1\" class=\"dataframe\">\n",
       "  <thead>\n",
       "    <tr style=\"text-align: right;\">\n",
       "      <th></th>\n",
       "      <th>movie_title</th>\n",
       "      <th>director_name</th>\n",
       "      <th>actor_1_name</th>\n",
       "      <th>actor_2_name</th>\n",
       "      <th>actor_3_name</th>\n",
       "      <th>genres</th>\n",
       "      <th>language</th>\n",
       "    </tr>\n",
       "  </thead>\n",
       "  <tbody>\n",
       "    <tr>\n",
       "      <th>0</th>\n",
       "      <td>Avatar</td>\n",
       "      <td>James Cameron</td>\n",
       "      <td>CCH Pounder</td>\n",
       "      <td>Joel David Moore</td>\n",
       "      <td>Wes Studi</td>\n",
       "      <td>Action|Adventure|Fantasy|Sci-Fi</td>\n",
       "      <td>English</td>\n",
       "    </tr>\n",
       "    <tr>\n",
       "      <th>1</th>\n",
       "      <td>Pirates of the Caribbean: At World's End</td>\n",
       "      <td>Gore Verbinski</td>\n",
       "      <td>Johnny Depp</td>\n",
       "      <td>Orlando Bloom</td>\n",
       "      <td>Jack Davenport</td>\n",
       "      <td>Action|Adventure|Fantasy</td>\n",
       "      <td>English</td>\n",
       "    </tr>\n",
       "    <tr>\n",
       "      <th>2</th>\n",
       "      <td>Spectre</td>\n",
       "      <td>Sam Mendes</td>\n",
       "      <td>Christoph Waltz</td>\n",
       "      <td>Rory Kinnear</td>\n",
       "      <td>Stephanie Sigman</td>\n",
       "      <td>Action|Adventure|Thriller</td>\n",
       "      <td>English</td>\n",
       "    </tr>\n",
       "    <tr>\n",
       "      <th>3</th>\n",
       "      <td>The Dark Knight Rises</td>\n",
       "      <td>Christopher Nolan</td>\n",
       "      <td>Tom Hardy</td>\n",
       "      <td>Christian Bale</td>\n",
       "      <td>Joseph Gordon-Levitt</td>\n",
       "      <td>Action|Thriller</td>\n",
       "      <td>English</td>\n",
       "    </tr>\n",
       "    <tr>\n",
       "      <th>4</th>\n",
       "      <td>John Carter</td>\n",
       "      <td>Andrew Stanton</td>\n",
       "      <td>Daryl Sabara</td>\n",
       "      <td>Samantha Morton</td>\n",
       "      <td>Polly Walker</td>\n",
       "      <td>Action|Adventure|Sci-Fi</td>\n",
       "      <td>English</td>\n",
       "    </tr>\n",
       "  </tbody>\n",
       "</table>\n",
       "</div>"
      ],
      "text/plain": [
       "                                 movie_title      director_name  \\\n",
       "0                                    Avatar       James Cameron   \n",
       "1  Pirates of the Caribbean: At World's End      Gore Verbinski   \n",
       "2                                   Spectre          Sam Mendes   \n",
       "3                     The Dark Knight Rises   Christopher Nolan   \n",
       "4                               John Carter      Andrew Stanton   \n",
       "\n",
       "      actor_1_name      actor_2_name          actor_3_name  \\\n",
       "0      CCH Pounder  Joel David Moore             Wes Studi   \n",
       "1      Johnny Depp     Orlando Bloom        Jack Davenport   \n",
       "2  Christoph Waltz      Rory Kinnear      Stephanie Sigman   \n",
       "3        Tom Hardy    Christian Bale  Joseph Gordon-Levitt   \n",
       "4     Daryl Sabara   Samantha Morton          Polly Walker   \n",
       "\n",
       "                            genres language  \n",
       "0  Action|Adventure|Fantasy|Sci-Fi  English  \n",
       "1         Action|Adventure|Fantasy  English  \n",
       "2        Action|Adventure|Thriller  English  \n",
       "3                  Action|Thriller  English  \n",
       "4          Action|Adventure|Sci-Fi  English  "
      ]
     },
     "execution_count": 38,
     "metadata": {},
     "output_type": "execute_result"
    }
   ],
   "source": [
    "df.head()"
   ]
  },
  {
   "cell_type": "code",
   "execution_count": 39,
   "id": "b14c1e66",
   "metadata": {},
   "outputs": [],
   "source": [
    "features=[]\n",
    "\n",
    "for i in range(df.shape[0]):\n",
    "    features.append(\" \".join(list(df.iloc[i,1:].values)))"
   ]
  },
  {
   "cell_type": "code",
   "execution_count": 41,
   "id": "731d2c6c",
   "metadata": {},
   "outputs": [
    {
     "name": "stderr",
     "output_type": "stream",
     "text": [
      "<ipython-input-41-77e414d68e1d>:1: SettingWithCopyWarning: \n",
      "A value is trying to be set on a copy of a slice from a DataFrame.\n",
      "Try using .loc[row_indexer,col_indexer] = value instead\n",
      "\n",
      "See the caveats in the documentation: https://pandas.pydata.org/pandas-docs/stable/user_guide/indexing.html#returning-a-view-versus-a-copy\n",
      "  df[\"features\"]=features\n"
     ]
    }
   ],
   "source": [
    "df[\"features\"]=features"
   ]
  },
  {
   "cell_type": "code",
   "execution_count": 42,
   "id": "df3be822",
   "metadata": {},
   "outputs": [],
   "source": [
    "df=df[[\"movie_title\",\"features\"]]"
   ]
  },
  {
   "cell_type": "code",
   "execution_count": 43,
   "id": "12b692c7",
   "metadata": {},
   "outputs": [
    {
     "data": {
      "text/html": [
       "<div>\n",
       "<style scoped>\n",
       "    .dataframe tbody tr th:only-of-type {\n",
       "        vertical-align: middle;\n",
       "    }\n",
       "\n",
       "    .dataframe tbody tr th {\n",
       "        vertical-align: top;\n",
       "    }\n",
       "\n",
       "    .dataframe thead th {\n",
       "        text-align: right;\n",
       "    }\n",
       "</style>\n",
       "<table border=\"1\" class=\"dataframe\">\n",
       "  <thead>\n",
       "    <tr style=\"text-align: right;\">\n",
       "      <th></th>\n",
       "      <th>movie_title</th>\n",
       "      <th>features</th>\n",
       "    </tr>\n",
       "  </thead>\n",
       "  <tbody>\n",
       "    <tr>\n",
       "      <th>0</th>\n",
       "      <td>Avatar</td>\n",
       "      <td>James Cameron CCH Pounder Joel David Moore Wes...</td>\n",
       "    </tr>\n",
       "    <tr>\n",
       "      <th>1</th>\n",
       "      <td>Pirates of the Caribbean: At World's End</td>\n",
       "      <td>Gore Verbinski Johnny Depp Orlando Bloom Jack ...</td>\n",
       "    </tr>\n",
       "    <tr>\n",
       "      <th>2</th>\n",
       "      <td>Spectre</td>\n",
       "      <td>Sam Mendes Christoph Waltz Rory Kinnear Stepha...</td>\n",
       "    </tr>\n",
       "    <tr>\n",
       "      <th>3</th>\n",
       "      <td>The Dark Knight Rises</td>\n",
       "      <td>Christopher Nolan Tom Hardy Christian Bale Jos...</td>\n",
       "    </tr>\n",
       "    <tr>\n",
       "      <th>4</th>\n",
       "      <td>John Carter</td>\n",
       "      <td>Andrew Stanton Daryl Sabara Samantha Morton Po...</td>\n",
       "    </tr>\n",
       "  </tbody>\n",
       "</table>\n",
       "</div>"
      ],
      "text/plain": [
       "                                 movie_title  \\\n",
       "0                                    Avatar    \n",
       "1  Pirates of the Caribbean: At World's End    \n",
       "2                                   Spectre    \n",
       "3                     The Dark Knight Rises    \n",
       "4                               John Carter    \n",
       "\n",
       "                                            features  \n",
       "0  James Cameron CCH Pounder Joel David Moore Wes...  \n",
       "1  Gore Verbinski Johnny Depp Orlando Bloom Jack ...  \n",
       "2  Sam Mendes Christoph Waltz Rory Kinnear Stepha...  \n",
       "3  Christopher Nolan Tom Hardy Christian Bale Jos...  \n",
       "4  Andrew Stanton Daryl Sabara Samantha Morton Po...  "
      ]
     },
     "execution_count": 43,
     "metadata": {},
     "output_type": "execute_result"
    }
   ],
   "source": [
    "df.head()"
   ]
  },
  {
   "cell_type": "code",
   "execution_count": 47,
   "id": "b0d8d8c8",
   "metadata": {},
   "outputs": [],
   "source": [
    "cvec=CountVectorizer()\n",
    "cv_df=cvec.fit_transform(df[\"features\"])"
   ]
  },
  {
   "cell_type": "code",
   "execution_count": 48,
   "id": "e1440f28",
   "metadata": {},
   "outputs": [
    {
     "data": {
      "text/plain": [
       "array([[0, 0, 0, ..., 0, 0, 0],\n",
       "       [0, 0, 0, ..., 0, 0, 0],\n",
       "       [0, 0, 0, ..., 0, 0, 0],\n",
       "       ...,\n",
       "       [0, 0, 0, ..., 0, 0, 0],\n",
       "       [0, 0, 0, ..., 0, 0, 0],\n",
       "       [0, 0, 0, ..., 0, 0, 0]], dtype=int64)"
      ]
     },
     "execution_count": 48,
     "metadata": {},
     "output_type": "execute_result"
    }
   ],
   "source": [
    "cv_df.toarray()"
   ]
  },
  {
   "cell_type": "code",
   "execution_count": 49,
   "id": "bb5d1bdc",
   "metadata": {},
   "outputs": [
    {
     "data": {
      "text/plain": [
       "(4760, 8450)"
      ]
     },
     "execution_count": 49,
     "metadata": {},
     "output_type": "execute_result"
    }
   ],
   "source": [
    "cv_df.shape"
   ]
  },
  {
   "cell_type": "code",
   "execution_count": 50,
   "id": "0c53d6e4",
   "metadata": {},
   "outputs": [
    {
     "data": {
      "text/plain": [
       "(4760, 2)"
      ]
     },
     "execution_count": 50,
     "metadata": {},
     "output_type": "execute_result"
    }
   ],
   "source": [
    "df.shape"
   ]
  },
  {
   "cell_type": "code",
   "execution_count": 51,
   "id": "51139271",
   "metadata": {},
   "outputs": [],
   "source": [
    "cs=cosine_similarity(cv_df)"
   ]
  },
  {
   "cell_type": "code",
   "execution_count": 52,
   "id": "3aaf8e83",
   "metadata": {},
   "outputs": [
    {
     "data": {
      "text/plain": [
       "array([[1.        , 0.2981424 , 0.2236068 , ..., 0.1490712 , 0.06900656,\n",
       "        0.06900656],\n",
       "       [0.2981424 , 1.        , 0.25      , ..., 0.08333333, 0.07715167,\n",
       "        0.07715167],\n",
       "       [0.2236068 , 0.25      , 1.        , ..., 0.16666667, 0.07715167,\n",
       "        0.07715167],\n",
       "       ...,\n",
       "       [0.1490712 , 0.08333333, 0.16666667, ..., 1.        , 0.15430335,\n",
       "        0.07715167],\n",
       "       [0.06900656, 0.07715167, 0.07715167, ..., 0.15430335, 1.        ,\n",
       "        0.07142857],\n",
       "       [0.06900656, 0.07715167, 0.07715167, ..., 0.07715167, 0.07142857,\n",
       "        1.        ]])"
      ]
     },
     "execution_count": 52,
     "metadata": {},
     "output_type": "execute_result"
    }
   ],
   "source": [
    "cs"
   ]
  },
  {
   "cell_type": "code",
   "execution_count": 54,
   "id": "efbacacd",
   "metadata": {},
   "outputs": [],
   "source": [
    "title=\"John Carter\"\n",
    "\n",
    "movie_index=df[[title in name for name in df[\"movie_title\"]]].index[0]"
   ]
  },
  {
   "cell_type": "code",
   "execution_count": 55,
   "id": "67f79e79",
   "metadata": {},
   "outputs": [
    {
     "data": {
      "text/plain": [
       "4"
      ]
     },
     "execution_count": 55,
     "metadata": {},
     "output_type": "execute_result"
    }
   ],
   "source": [
    "movie_index"
   ]
  },
  {
   "cell_type": "code",
   "execution_count": 56,
   "id": "c76e10f3",
   "metadata": {},
   "outputs": [],
   "source": [
    "scores=list(enumerate(cs[movie_index]))"
   ]
  },
  {
   "cell_type": "code",
   "execution_count": 57,
   "id": "3666db19",
   "metadata": {},
   "outputs": [],
   "source": [
    "stored_scores=sorted(scores,key=lambda x:x[1],reverse=True)"
   ]
  },
  {
   "cell_type": "code",
   "execution_count": 58,
   "id": "c2121c50",
   "metadata": {},
   "outputs": [],
   "source": [
    "top_10=[h[0] for h in stored_scores[1:11]]"
   ]
  },
  {
   "cell_type": "code",
   "execution_count": 59,
   "id": "f38c7b9e",
   "metadata": {},
   "outputs": [
    {
     "data": {
      "text/plain": [
       "1363                                     Spy Kids \n",
       "1767    Spy Kids: All the Time in the World in 4D \n",
       "38                       The Amazing Spider-Man 2 \n",
       "483                                      Timeline \n",
       "57                                         WALL·E \n",
       "162                                       Stealth \n",
       "972                                      The Host \n",
       "43                           Terminator Salvation \n",
       "47                        Star Trek Into Darkness \n",
       "108                            Terminator Genisys \n",
       "Name: movie_title, dtype: object"
      ]
     },
     "execution_count": 59,
     "metadata": {},
     "output_type": "execute_result"
    }
   ],
   "source": [
    "df.iloc[top_10][\"movie_title\"]"
   ]
  },
  {
   "cell_type": "code",
   "execution_count": null,
   "id": "febb40cb",
   "metadata": {},
   "outputs": [],
   "source": []
  }
 ],
 "metadata": {
  "kernelspec": {
   "display_name": "Python 3",
   "language": "python",
   "name": "python3"
  },
  "language_info": {
   "codemirror_mode": {
    "name": "ipython",
    "version": 3
   },
   "file_extension": ".py",
   "mimetype": "text/x-python",
   "name": "python",
   "nbconvert_exporter": "python",
   "pygments_lexer": "ipython3",
   "version": "3.8.8"
  }
 },
 "nbformat": 4,
 "nbformat_minor": 5
}
